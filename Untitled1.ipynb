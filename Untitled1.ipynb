{
  "nbformat": 4,
  "nbformat_minor": 0,
  "metadata": {
    "colab": {
      "provenance": [],
      "authorship_tag": "ABX9TyNWugHqCoYpYmRYtFORGVAt",
      "include_colab_link": true
    },
    "kernelspec": {
      "name": "python3",
      "display_name": "Python 3"
    },
    "language_info": {
      "name": "python"
    }
  },
  "cells": [
    {
      "cell_type": "markdown",
      "metadata": {
        "id": "view-in-github",
        "colab_type": "text"
      },
      "source": [
        "<a href=\"https://colab.research.google.com/github/21taafaaa/solid-dollop/blob/main/Untitled1.ipynb\" target=\"_parent\"><img src=\"https://colab.research.google.com/assets/colab-badge.svg\" alt=\"Open In Colab\"/></a>"
      ]
    },
    {
      "cell_type": "code",
      "execution_count": 1,
      "metadata": {
        "colab": {
          "base_uri": "https://localhost:8080/"
        },
        "id": "gf7wa3u4ortU",
        "outputId": "0ce3a2fd-9d52-469e-8b47-6a8f6ac5c4cf"
      },
      "outputs": [
        {
          "output_type": "stream",
          "name": "stdout",
          "text": [
            "Imports ready. RANDOM_STATE = 42\n"
          ]
        }
      ],
      "source": [
        "# Imports and global settings\n",
        "import numpy as np\n",
        "import pandas as pd\n",
        "import matplotlib.pyplot as plt\n",
        "from sklearn.datasets import load_breast_cancer\n",
        "from sklearn.model_selection import train_test_split, StratifiedKFold, GridSearchCV\n",
        "from sklearn.preprocessing import StandardScaler\n",
        "from sklearn.neural_network import MLPClassifier\n",
        "from sklearn.svm import LinearSVC\n",
        "from sklearn.ensemble import RandomForestClassifier\n",
        "from sklearn.metrics import (accuracy_score, recall_score, precision_score, f1_score,\n",
        "                             roc_auc_score, confusion_matrix, roc_curve, auc)\n",
        "import joblib\n",
        "\n",
        "RANDOM_STATE = 42\n",
        "np.random.seed(RANDOM_STATE)\n",
        "\n",
        "print('Imports ready. RANDOM_STATE =', RANDOM_STATE)"
      ]
    },
    {
      "cell_type": "code",
      "source": [
        "# Import libraries\n",
        "import pandas as pd\n",
        "from sklearn.datasets import load_breast_cancer\n",
        "import collections\n",
        "\n",
        "# Load dataset\n",
        "data = load_breast_cancer()\n",
        "X = data['data']\n",
        "y = data['target']\n",
        "\n",
        "# Display info\n",
        "print('Feature count:', X.shape[1])\n",
        "print('Class names:', data['target_names'])\n",
        "print('Class distribution:')\n",
        "print(collections.Counter(y))\n",
        "\n",
        "# Create DataFrame\n",
        "df = pd.DataFrame(X, columns=data['feature_names'])\n",
        "df['target'] = y\n",
        "\n",
        "# Show first rows\n",
        "print(df.head())"
      ],
      "metadata": {
        "id": "s7Z9eWFOtJPL",
        "colab": {
          "base_uri": "https://localhost:8080/"
        },
        "outputId": "9ed5a981-8466-43de-ae72-307708eb8372"
      },
      "execution_count": 3,
      "outputs": [
        {
          "output_type": "stream",
          "name": "stdout",
          "text": [
            "Feature count: 30\n",
            "Class names: ['malignant' 'benign']\n",
            "Class distribution:\n",
            "Counter({np.int64(1): 357, np.int64(0): 212})\n",
            "   mean radius  mean texture  mean perimeter  mean area  mean smoothness  \\\n",
            "0        17.99         10.38          122.80     1001.0          0.11840   \n",
            "1        20.57         17.77          132.90     1326.0          0.08474   \n",
            "2        19.69         21.25          130.00     1203.0          0.10960   \n",
            "3        11.42         20.38           77.58      386.1          0.14250   \n",
            "4        20.29         14.34          135.10     1297.0          0.10030   \n",
            "\n",
            "   mean compactness  mean concavity  mean concave points  mean symmetry  \\\n",
            "0           0.27760          0.3001              0.14710         0.2419   \n",
            "1           0.07864          0.0869              0.07017         0.1812   \n",
            "2           0.15990          0.1974              0.12790         0.2069   \n",
            "3           0.28390          0.2414              0.10520         0.2597   \n",
            "4           0.13280          0.1980              0.10430         0.1809   \n",
            "\n",
            "   mean fractal dimension  ...  worst texture  worst perimeter  worst area  \\\n",
            "0                 0.07871  ...          17.33           184.60      2019.0   \n",
            "1                 0.05667  ...          23.41           158.80      1956.0   \n",
            "2                 0.05999  ...          25.53           152.50      1709.0   \n",
            "3                 0.09744  ...          26.50            98.87       567.7   \n",
            "4                 0.05883  ...          16.67           152.20      1575.0   \n",
            "\n",
            "   worst smoothness  worst compactness  worst concavity  worst concave points  \\\n",
            "0            0.1622             0.6656           0.7119                0.2654   \n",
            "1            0.1238             0.1866           0.2416                0.1860   \n",
            "2            0.1444             0.4245           0.4504                0.2430   \n",
            "3            0.2098             0.8663           0.6869                0.2575   \n",
            "4            0.1374             0.2050           0.4000                0.1625   \n",
            "\n",
            "   worst symmetry  worst fractal dimension  target  \n",
            "0          0.4601                  0.11890       0  \n",
            "1          0.2750                  0.08902       0  \n",
            "2          0.3613                  0.08758       0  \n",
            "3          0.6638                  0.17300       0  \n",
            "4          0.2364                  0.07678       0  \n",
            "\n",
            "[5 rows x 31 columns]\n"
          ]
        }
      ]
    },
    {
      "cell_type": "code",
      "source": [
        "# Train/test split (70% train / 30% test)\n",
        "X_train, X_test, y_train, y_test = train_test_split(\n",
        "    X, y, test_size=0.3, stratify=y, random_state=RANDOM_STATE)\n",
        "\n",
        "print('Train shape:', X_train.shape, 'Test shape:', X_test.shape)\n",
        "\n",
        "# Standardize features\n",
        "scaler = StandardScaler().fit(X_train)\n",
        "X_train_s = scaler.transform(X_train)\n",
        "X_test_s = scaler.transform(X_test)\n",
        "\n",
        "print('Standardization done.')"
      ],
      "metadata": {
        "id": "i_YCzh_TtUYt",
        "colab": {
          "base_uri": "https://localhost:8080/"
        },
        "outputId": "64aff5cf-0bec-49a3-fef1-277d4e6ba54c"
      },
      "execution_count": 4,
      "outputs": [
        {
          "output_type": "stream",
          "name": "stdout",
          "text": [
            "Train shape: (398, 30) Test shape: (171, 30)\n",
            "Standardization done.\n"
          ]
        }
      ]
    },
    {
      "cell_type": "code",
      "source": [
        "# Define models and hyperparameter grids\n",
        "models = {\n",
        "    'MLP': {\n",
        "        'estimator': MLPClassifier(random_state=RANDOM_STATE, max_iter=1000),\n",
        "        'param_grid': {\n",
        "            'hidden_layer_sizes': [(50,), (64,32)],\n",
        "            'alpha': [1e-4, 1e-3],\n",
        "            'learning_rate_init': [1e-3]\n",
        "        }\n",
        "    },\n",
        "    'LinearSVC': {\n",
        "        'estimator': LinearSVC(random_state=RANDOM_STATE, max_iter=20000),\n",
        "        'param_grid': {\n",
        "            'C': [0.01, 0.1, 1, 10]\n",
        "        }\n",
        "    },\n",
        "    'RandomForest': {\n",
        "        'estimator': RandomForestClassifier(random_state=RANDOM_STATE),\n",
        "        'param_grid': {\n",
        "            'n_estimators': [100, 300],\n",
        "            'max_depth': [None, 5, 10]\n",
        "        }\n",
        "    }\n",
        "}\n",
        "\n",
        "print('Models defined: ', list(models.keys()))"
      ],
      "metadata": {
        "colab": {
          "base_uri": "https://localhost:8080/"
        },
        "id": "AXj9Kd_4w8yl",
        "outputId": "957d8c83-6a8d-4da0-9e45-f60dc194d67a"
      },
      "execution_count": 5,
      "outputs": [
        {
          "output_type": "stream",
          "name": "stdout",
          "text": [
            "Models defined:  ['MLP', 'LinearSVC', 'RandomForest']\n"
          ]
        }
      ]
    },
    {
      "cell_type": "code",
      "source": [
        "# Perform GridSearchCV with StratifiedKFold\n",
        "cv = StratifiedKFold(n_splits=5, shuffle=True, random_state=RANDOM_STATE)\n",
        "results = {}\n",
        "\n",
        "for name, item in models.items():\n",
        "    print('\\nRunning GridSearchCV for', name)\n",
        "    grid = GridSearchCV(item['estimator'], item['param_grid'], scoring='roc_auc', cv=cv, n_jobs=-1)\n",
        "    grid.fit(X_train_s, y_train)\n",
        "    print(' Best params:', grid.best_params_)\n",
        "    print(' Best CV ROC-AUC:', grid.best_score_)\n",
        "    best = grid.best_estimator_\n",
        "    results[name] = {\n",
        "        'best_estimator': best,\n",
        "        'best_params': grid.best_params_,\n",
        "        'best_cv_score': grid.best_score_\n",
        "    }\n",
        "\n",
        "print('\\nGrid search completed.')"
      ],
      "metadata": {
        "colab": {
          "base_uri": "https://localhost:8080/"
        },
        "id": "s2IVS9RexAjd",
        "outputId": "4b85071e-bce7-48b1-80de-4cdb8c8f9b9f"
      },
      "execution_count": 6,
      "outputs": [
        {
          "output_type": "stream",
          "name": "stdout",
          "text": [
            "\n",
            "Running GridSearchCV for MLP\n",
            " Best params: {'alpha': 0.0001, 'hidden_layer_sizes': (50,), 'learning_rate_init': 0.001}\n",
            " Best CV ROC-AUC: 0.9920827586206897\n",
            "\n",
            "Running GridSearchCV for LinearSVC\n",
            " Best params: {'C': 0.01}\n",
            " Best CV ROC-AUC: 0.9932735632183908\n",
            "\n",
            "Running GridSearchCV for RandomForest\n",
            " Best params: {'max_depth': 5, 'n_estimators': 100}\n",
            " Best CV ROC-AUC: 0.9895356321839082\n",
            "\n",
            "Grid search completed.\n"
          ]
        }
      ]
    },
    {
      "cell_type": "code",
      "source": [
        "# ✅ Import all required libraries\n",
        "import pandas as pd\n",
        "import joblib\n",
        "from sklearn.metrics import (\n",
        "    accuracy_score, recall_score, precision_score,\n",
        "    f1_score, roc_auc_score, confusion_matrix\n",
        ")\n",
        "\n",
        "# ✅ فرض می‌کنیم متغیرهای زیر از قبل آماده‌اند:\n",
        "# results = {'ModelName': {'best_estimator': trained_model}, ...}\n",
        "# X_test_s = داده‌های تست استاندارد شده\n",
        "# y_test = برچسب‌های تست\n",
        "\n",
        "# ✅ Evaluate best models on holdout test set\n",
        "summary_rows = []\n",
        "\n",
        "for name, info in results.items():\n",
        "    model = info['best_estimator']\n",
        "    yhat = model.predict(X_test_s)\n",
        "\n",
        "    # Try to get model scores safely\n",
        "    try:\n",
        "        if hasattr(model, 'decision_function'):\n",
        "            scores = model.decision_function(X_test_s)\n",
        "        elif hasattr(model, 'predict_proba'):\n",
        "            scores = model.predict_proba(X_test_s)[:, 1]\n",
        "        else:\n",
        "            scores = yhat\n",
        "    except Exception:\n",
        "        scores = yhat\n",
        "\n",
        "    # Compute metrics\n",
        "    acc = accuracy_score(y_test, yhat)\n",
        "    recall = recall_score(y_test, yhat)\n",
        "    precision = precision_score(y_test, yhat)\n",
        "    f1 = f1_score(y_test, yhat)\n",
        "    roc = roc_auc_score(y_test, scores)\n",
        "    tn, fp, fn, tp = confusion_matrix(y_test, yhat).ravel()\n",
        "    specificity = tn / (tn + fp)\n",
        "\n",
        "    summary_rows.append({\n",
        "        'Model': name,\n",
        "        'Accuracy': acc,\n",
        "        'Sensitivity(Recall)': recall,\n",
        "        'Specificity': specificity,\n",
        "        'Precision': precision,\n",
        "        'F1': f1,\n",
        "        'ROC_AUC': roc\n",
        "    })\n",
        "\n",
        "# ✅ Create and print summary table\n",
        "summary_df = pd.DataFrame(summary_rows)\n",
        "print('\\n===== Model Evaluation Summary =====')\n",
        "print(summary_df)\n",
        "\n",
        "# ✅ Show confusion matrices\n",
        "print('\\n===== Confusion Matrices =====')\n",
        "for name, info in results.items():\n",
        "    yhat = info['best_estimator'].predict(X_test_s)\n",
        "    cm = confusion_matrix(y_test, yhat)\n",
        "    print(f'\\n{name}:\\n{cm}')\n",
        "\n",
        "# ✅ Save best models safely in current directory\n",
        "for name, info in results.items():\n",
        "    filename = f'best_model_{name}.joblib'\n",
        "    joblib.dump(info['best_estimator'], filename)\n",
        "    print(f'Model \"{name}\" saved as {filename}')\n",
        "\n",
        "print('\\n✅ All models evaluated and saved successfully!')"
      ],
      "metadata": {
        "colab": {
          "base_uri": "https://localhost:8080/"
        },
        "id": "rhgw5QMkxSpT",
        "outputId": "39cedf90-ace0-479c-a49b-0071aa64f369"
      },
      "execution_count": 8,
      "outputs": [
        {
          "output_type": "stream",
          "name": "stdout",
          "text": [
            "\n",
            "===== Model Evaluation Summary =====\n",
            "          Model  Accuracy  Sensitivity(Recall)  Specificity  Precision  \\\n",
            "0           MLP  0.970760             0.962617     0.984375   0.990385   \n",
            "1     LinearSVC  0.982456             0.990654     0.968750   0.981481   \n",
            "2  RandomForest  0.941520             0.962617     0.906250   0.944954   \n",
            "\n",
            "         F1   ROC_AUC  \n",
            "0  0.976303  0.997079  \n",
            "1  0.986047  0.996787  \n",
            "2  0.953704  0.989340  \n",
            "\n",
            "===== Confusion Matrices =====\n",
            "\n",
            "MLP:\n",
            "[[ 63   1]\n",
            " [  4 103]]\n",
            "\n",
            "LinearSVC:\n",
            "[[ 62   2]\n",
            " [  1 106]]\n",
            "\n",
            "RandomForest:\n",
            "[[ 58   6]\n",
            " [  4 103]]\n",
            "Model \"MLP\" saved as best_model_MLP.joblib\n",
            "Model \"LinearSVC\" saved as best_model_LinearSVC.joblib\n",
            "Model \"RandomForest\" saved as best_model_RandomForest.joblib\n",
            "\n",
            "✅ All models evaluated and saved successfully!\n"
          ]
        }
      ]
    },
    {
      "cell_type": "code",
      "source": [
        "# ROC curves plot\n",
        "plt.figure(figsize=(8,6))\n",
        "for name, info in results.items():\n",
        "    model = info['best_estimator']\n",
        "    if hasattr(model, 'decision_function'):\n",
        "        scores = model.decision_function(X_test_s)\n",
        "    elif hasattr(model, 'predict_proba'):\n",
        "        scores = model.predict_proba(X_test_s)[:,1]\n",
        "    else:\n",
        "        scores = model.predict(X_test_s)\n",
        "    fpr, tpr, _ = roc_curve(y_test, scores)\n",
        "    roc_auc = auc(fpr, tpr)\n",
        "    plt.plot(fpr, tpr, label=f\"{name} (AUC = {roc_auc:.3f})\")\n",
        "\n",
        "plt.plot([0,1],[0,1],'--')\n",
        "plt.xlabel('False Positive Rate')\n",
        "plt.ylabel('True Positive Rate')\n",
        "plt.title('ROC Curves - Test Set')\n",
        "plt.legend(loc='lower right')\n",
        "plt.grios.makedirs('outputs', exist_ok=True)\n",
        "summary_df.to_csv('outputs/model_results_summary.csv', index=False)d(True)\n",
        "plt.show()"
      ],
      "metadata": {
        "colab": {
          "base_uri": "https://localhost:8080/",
          "height": 237
        },
        "id": "6v-z4NzixtGa",
        "outputId": "4d802f24-48a7-473f-83b8-a415a4480366"
      },
      "execution_count": 9,
      "outputs": [
        {
          "output_type": "display_data",
          "data": {
            "text/plain": [
              "<Figure size 800x600 with 1 Axes>"
            ],
            "image/png": "[encoded data removed]"
          },
          "metadata": {}
        }
      ]
    },
    {
      "cell_type": "code",
      "source": [
        "import os\n",
        "\n",
        "\n",
        "if os.path.exists('/mnt/data/'):\n",
        "    save_path = '/mnt/data/model_results_summary.csv'\n",
        "else:\n",
        "    save_path = 'model_results_summary.csv'\n",
        "\n",
        "\n",
        "summary_df.to_csv(save_path, index=False)\n",
        "print(f'✅ Summary CSV saved successfully to: {save_path}')"
      ],
      "metadata": {
        "colab": {
          "base_uri": "https://localhost:8080/"
        },
        "id": "M1miRYeZx6Pd",
        "outputId": "64360687-5665-4f70-9406-ec8bc9f7747d"
      },
      "execution_count": 10,
      "outputs": [
        {
          "output_type": "stream",
          "name": "stdout",
          "text": [
            "✅ Summary CSV saved successfully to: model_results_summary.csv\n"
          ]
        }
      ]
    }
  ]
}