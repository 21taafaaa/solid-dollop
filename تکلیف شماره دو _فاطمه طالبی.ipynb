{
 "cells": [
  {
   "cell_type": "code",
   "execution_count": null,
   "id": "e2443ab7",
   "metadata": {},
   "outputs": [],
   "source": [
    "# Cell 0: Student Information\n",
    "# Please enter your details here."
   ]
  },
  {
   "cell_type": "code",
   "execution_count": null,
   "id": "8a0d2535",
   "metadata": {},
   "outputs": [],
   "source": [
    "# Cell 1: Temperature check\n",
    "temperature = int(input(\"Enter the temperature: \"))\n",
    "\n",
    "if temperature > 30:\n",
    "    print(\"It's a hot day.\")\n",
    "elif temperature > 20:\n",
    "    print(\"It's a nice day.\")\n",
    "elif temperature > 10:\n",
    "    print(\"It's a bit chilly.\")\n",
    "else:\n",
    "    print(\"It's cold outside.\")\n"
   ]
  },
  {
   "cell_type": "code",
   "execution_count": null,
   "id": "ebfd179f",
   "metadata": {},
   "outputs": [],
   "source": [
    "# Cell 2: Concert eligibility\n",
    "age = int(input(\"Enter your age: \"))\n",
    "has_ticket = input(\"Do you have a ticket? (True/False): \")\n",
    "has_ticket = has_ticket.strip().lower() == \"true\"\n",
    "\n",
    "if age >= 18:\n",
    "    if has_ticket:\n",
    "        print(\"You can enter the concert.\")\n",
    "    else:\n",
    "        print(\"You need a ticket to enter.\")\n",
    "else:\n",
    "    print(\"You are too young for the concert.\")\n"
   ]
  },
  {
   "cell_type": "code",
   "execution_count": null,
   "id": "ba18f612",
   "metadata": {},
   "outputs": [],
   "source": [
    "# Cell 3: List and string iteration\n",
    "fruits = [\"apple\", \"banana\", \"mango\", \"orange\", \"grape\"]\n",
    "\n",
    "for fruit in fruits:\n",
    "    print(f\"I like {fruit}\")\n",
    "\n",
    "print(\"\\nLetters in 'Python':\")\n",
    "for letter in \"Python\":\n",
    "    print(letter)\n"
   ]
  },
  {
   "cell_type": "code",
   "execution_count": null,
   "id": "a964b0df",
   "metadata": {},
   "outputs": [],
   "source": [
    "# Cell 4: For loop and sum\n",
    "for num in range(1, 11):\n",
    "    print(num)\n",
    "\n",
    "total = 0\n",
    "for num in range(1, 11):\n",
    "    total += num\n",
    "\n",
    "print(\"Sum:\", total)\n"
   ]
  },
  {
   "cell_type": "code",
   "execution_count": null,
   "id": "92df23e4",
   "metadata": {},
   "outputs": [],
   "source": [
    "# Cell 5: While loop with break and continue\n",
    "count = 1\n",
    "\n",
    "while True:\n",
    "    if count == 3:\n",
    "        count += 1\n",
    "        continue\n",
    "    if count == 7:\n",
    "        break\n",
    "    print(count)\n",
    "    count += 1\n"
   ]
  }
 ],
 "metadata": {},
 "nbformat": 4,
 "nbformat_minor": 5
}
