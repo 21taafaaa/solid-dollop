{
 "cells": [
  {
   "cell_type": "code",
   "execution_count": null,
   "id": "8e7fa4e4",
   "metadata": {},
   "outputs": [],
   "source": [
    "with open('sample.txt', 'w') as file:\n",
    "    file.write(\"This is a sample text file.\\nIt has multiple lines.\\nEnd of file.\")"
   ]
  },
  {
   "cell_type": "code",
   "execution_count": null,
   "id": "3c41f486",
   "metadata": {},
   "outputs": [],
   "source": [
    "with open('sample.txt', 'r') as file:\n",
    "    content = file.read()\n",
    "    print(content)"
   ]
  },
  {
   "cell_type": "code",
   "execution_count": null,
   "id": "6961c5b0",
   "metadata": {},
   "outputs": [],
   "source": [
    "import csv\n",
    "\n",
    "with open('data.csv', 'w', newline='') as file:\n",
    "    writer = csv.writer(file)\n",
    "    writer.writerow(['Name', 'Age', 'Occupation'])\n",
    "    writer.writerow(['Alice', 30, 'Engineer'])\n",
    "    writer.writerow(['Bob', 25, 'Designer'])"
   ]
  },
  {
   "cell_type": "code",
   "execution_count": null,
   "id": "42d0330c",
   "metadata": {},
   "outputs": [],
   "source": [
    "import json\n",
    "\n",
    "data = {'name': 'Test', 'value': 42}\n",
    "with open('config.json', 'w') as file:\n",
    "    json.dump(data, file)\n",
    "\n",
    "with open('config.json', 'r') as file:\n",
    "    loaded_data = json.load(file)\n",
    "    print(loaded_data)"
   ]
  },
  {
   "cell_type": "code",
   "execution_count": null,
   "id": "7bda323b",
   "metadata": {},
   "outputs": [],
   "source": [
    "squares = [x**2 for x in range(10)]\n",
    "print(squares)"
   ]
  },
  {
   "cell_type": "code",
   "execution_count": null,
   "id": "f37ed576",
   "metadata": {},
   "outputs": [],
   "source": [
    "cubes = {x: x**3 for x in range(1, 6)}\n",
    "print(cubes)"
   ]
  },
  {
   "cell_type": "code",
   "execution_count": null,
   "id": "db69dedb",
   "metadata": {},
   "outputs": [],
   "source": [
    "evens = [x for x in range(21) if x % 2 == 0]\n",
    "print(evens)"
   ]
  },
  {
   "cell_type": "code",
   "execution_count": null,
   "id": "10074b52",
   "metadata": {},
   "outputs": [],
   "source": [
    "import math\n",
    "print(math.sqrt(16))"
   ]
  },
  {
   "cell_type": "code",
   "execution_count": null,
   "id": "b0ba245c",
   "metadata": {},
   "outputs": [],
   "source": [
    "from random import randint\n",
    "print(randint(1, 10))"
   ]
  }
 ],
 "metadata": {},
 "nbformat": 4,
 "nbformat_minor": 5
}
