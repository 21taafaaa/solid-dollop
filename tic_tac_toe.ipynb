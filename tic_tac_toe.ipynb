{
 "cells": [
  {
   "cell_type": "code",
   "execution_count": null,
   "id": "c31d32b4",
   "metadata": {},
   "outputs": [],
   "source": [
    "board = [\"-\" for _ in range(9)]"
   ]
  },
  {
   "cell_type": "code",
   "execution_count": null,
   "id": "df570b69",
   "metadata": {},
   "outputs": [],
   "source": [
    "def display_board():\n",
    "    print(board[0], board[1], board[2])\n",
    "    print(board[3], board[4], board[5])\n",
    "    print(board[6], board[7], board[8])"
   ]
  },
  {
   "cell_type": "code",
   "execution_count": null,
   "id": "f61c552f",
   "metadata": {},
   "outputs": [],
   "source": [
    "def choose_players():\n",
    "    global player1, player2, current_player\n",
    "    while True:\n",
    "        symbol = input(\"Player 1, choose X or O: \").upper()\n",
    "        if symbol in [\"X\", \"O\"]:\n",
    "            player1 = symbol\n",
    "            player2 = \"O\" if player1 == \"X\" else \"X\"\n",
    "            current_player = player1\n",
    "            break\n",
    "        else:\n",
    "            print(\"Invalid input. Please choose X or O.\")"
   ]
  },
  {
   "cell_type": "code",
   "execution_count": null,
   "id": "6865f325",
   "metadata": {},
   "outputs": [],
   "source": [
    "def player_move():\n",
    "    while True:\n",
    "        try:\n",
    "            move = int(input(f\"{current_player}'s turn. Choose a position (1-9): \")) - 1\n",
    "            if move < 0 or move > 8:\n",
    "                print(\"Invalid position. Choose from 1 to 9.\")\n",
    "            elif board[move] != \"-\":\n",
    "                print(\"Position already taken. Choose another one.\")\n",
    "            else:\n",
    "                board[move] = current_player\n",
    "                break\n",
    "        except ValueError:\n",
    "            print(\"Please enter a number from 1 to 9.\")"
   ]
  },
  {
   "cell_type": "code",
   "execution_count": null,
   "id": "d73e3656",
   "metadata": {},
   "outputs": [],
   "source": [
    "def check_winner():\n",
    "    win_conditions = [\n",
    "        [0, 1, 2], [3, 4, 5], [6, 7, 8],\n",
    "        [0, 3, 6], [1, 4, 7], [2, 5, 8],\n",
    "        [0, 4, 8], [2, 4, 6]\n",
    "    ]\n",
    "    for condition in win_conditions:\n",
    "        a, b, c = condition\n",
    "        if board[a] == board[b] == board[c] and board[a] != \"-\":\n",
    "            return True\n",
    "    return False"
   ]
  },
  {
   "cell_type": "code",
   "execution_count": null,
   "id": "c2655a08",
   "metadata": {},
   "outputs": [],
   "source": [
    "def check_tie():\n",
    "    return \"-\" not in board"
   ]
  },
  {
   "cell_type": "code",
   "execution_count": null,
   "id": "66fd1258",
   "metadata": {},
   "outputs": [],
   "source": [
    "def switch_player():\n",
    "    global current_player\n",
    "    current_player = player1 if current_player == player2 else player2"
   ]
  },
  {
   "cell_type": "code",
   "execution_count": null,
   "id": "9056fd71",
   "metadata": {},
   "outputs": [],
   "source": [
    "choose_players()\n",
    "display_board()\n",
    "\n",
    "while True:\n",
    "    player_move()\n",
    "    display_board()\n",
    "    if check_winner():\n",
    "        print(f\"{current_player} wins!\")\n",
    "        break\n",
    "    if check_tie():\n",
    "        print(\"It's a tie!\")\n",
    "        break\n",
    "    switch_player()"
   ]
  }
 ],
 "metadata": {},
 "nbformat": 4,
 "nbformat_minor": 5
}
