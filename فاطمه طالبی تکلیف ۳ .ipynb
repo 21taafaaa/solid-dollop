{
 "cells": [
  {
   "cell_type": "code",
   "execution_count": null,
   "id": "c8fcbe72",
   "metadata": {},
   "outputs": [],
   "source": [
    "# Student Information\n",
    "# Please enter your details for grading purposes:\n",
    "Your_Name = \"Fatemeh Taleby\"\n"
   ]
  },
  {
   "cell_type": "code",
   "execution_count": null,
   "id": "263c8023",
   "metadata": {},
   "outputs": [],
   "source": [
    "# write your code here\n",
    "def greet(name):\n",
    "    print(f\"Hello, {name}!\")\n"
   ]
  },
  {
   "cell_type": "code",
   "execution_count": null,
   "id": "f4983846",
   "metadata": {},
   "outputs": [],
   "source": [
    "# write your code here\n",
    "def analyze_numbers(num1, num2):\n",
    "    print(f\"First number: {num1}\")\n",
    "    print(f\"Second number: {num2}\")\n",
    "    total = num1 + num2\n",
    "    print(f\"Sum: {total}\")\n",
    "\n",
    "    if total % 2 == 0:\n",
    "        print(\"The sum is even.\")\n",
    "    else:\n",
    "        print(\"The sum is odd.\")\n",
    "\n",
    "    return total\n"
   ]
  },
  {
   "cell_type": "code",
   "execution_count": null,
   "id": "d521c2cc",
   "metadata": {},
   "outputs": [],
   "source": [
    "# write your code here\n",
    "def find_a_b(sum_xy, diff_xy):\n",
    "    x = (sum_xy + diff_xy) / 2\n",
    "    y = (sum_xy - diff_xy) / 2\n",
    "    return x, y\n"
   ]
  },
  {
   "cell_type": "code",
   "execution_count": null,
   "id": "e8f07f60",
   "metadata": {},
   "outputs": [],
   "source": [
    "def calculate_discounted_price(price, discount=10, tax=5):\n",
    "    print(f\"Original price: ${price}\")\n",
    "\n",
    "    discount_amount = price * (discount / 100)\n",
    "    price_after_discount = price - discount_amount\n",
    "    print(f\"Discount ({discount}%): -${discount_amount}\")\n",
    "    print(f\"Price after discount: ${price_after_discount}\")\n",
    "\n",
    "    tax_amount = price_after_discount * (tax / 100)\n",
    "    final_price = price_after_discount + tax_amount\n",
    "    print(f\"Tax ({tax}%): +${tax_amount}\")\n",
    "    print(f\"Final price: ${final_price}\")\n",
    "\n",
    "    return round(final_price, 2)\n",
    "\n",
    "# Example usage:\n",
    "calculate_discounted_price(100)\n"
   ]
  },
  {
   "cell_type": "markdown",
   "id": "d5cf12d1",
   "metadata": {},
   "source": [
    
    "\n",
    "این تابع قیمت نهایی یک محصول را بعد از اعمال تخفیف و مالیات محاسبه می‌کند. مراحل:\n",
    "\n",
    "1. قیمت اصلی را چاپ می‌کند.\n",
    "2. مقدار تخفیف را با استفاده از درصد ورودی محاسبه کرده و از قیمت اصلی کم می‌کند.\n",
    "3. قیمت پس از تخفیف را چاپ می‌کند.\n",
    "4. سپس مالیات را (بر اساس درصد ورودی) بر روی قیمت تخفیف‌خورده اعمال می‌کند.\n",
    "5. قیمت نهایی را چاپ کرده و مقدار نهایی را با دو رقم اعشار برمی‌گرداند.\n"
   ]
  },
  {
   "cell_type": "code",
   "execution_count": null,
   "id": "3c81c4f1",
   "metadata": {},
   "outputs": [],
   "source": [
    "# write your code here\n",
    "full_names = [\"Alexander Fleming\", \"Elizabeth Blackwell\", \"Edward Jenner\", \"William Osler\"]\n",
    "first_names = list(map(lambda name: name.split()[0], full_names))\n",
    "print(first_names)\n"
   ]
  },
  {
   "cell_type": "code",
   "execution_count": null,
   "id": "261ae071",
   "metadata": {},
   "outputs": [],
   "source": [
    "# write your code here\n",
    "users = [\n",
    "    {\"name\": \"Ali\", \"age\": 17, \"active\": True},\n",
    "    {\"name\": \"Sara\", \"age\": 22, \"active\": False},\n",
    "    {\"name\": \"Reza\", \"age\": 19, \"active\": True},\n",
    "    {\"name\": \"Lina\", \"age\": 25, \"active\": True},\n",
    "    {\"name\": \"Mona\", \"age\": 16, \"active\": True},\n",
    "    {\"name\": \"Javad\", \"age\": 20, \"active\": False},\n",
    "]\n",
    "\n",
    "active_adults = list(filter(lambda user: user[\"age\"] >= 18 and user[\"active\"], users))\n",
    "print(active_adults)\n"
   ]
  },
  {
   "cell_type": "code",
   "execution_count": null,
   "id": "eb8b8ec7",
   "metadata": {},
   "outputs": [],
   "source": [
    "while True:\n",
    "    try:\n",
    "        numerator = float(input(\"Enter the numerator: \"))\n",
    "        denominator = float(input(\"Enter the denominator: \"))\n",
    "\n",
    "        result = numerator / denominator\n",
    "    except ValueError:\n",
    "        print(\"⚠️ Please enter valid numeric values.\")\n",
    "        continue\n",
    "    except ZeroDivisionError:\n",
    "        print(\"⚠️ Denominator cannot be zero. Try again.\")\n",
    "        continue\n",
    "    else:\n",
    "        print(f\"✅ Result: {round(result, 3)}\")\n",
    "        break\n",
    "    finally:\n",
    "        print(\"📘 Thank you for using the divider.\\n\")\n"
   ]
  },
  {
   "cell_type": "markdown",
   "id": "5dc2590a",
   "metadata": {},
   "source": [
    
    "\n",
    "این برنامه در یک حلقه‌ی بی‌نهایت از کاربر می‌خواهد دو عدد وارد کند: صورت (numerator) و مخرج (denominator).\n",
    "\n",
    "- اگر کاربر عدد اشتباه یا غیرعددی وارد کند (`ValueError`)، پیام خطا می‌گیرد و دوباره از اول پرسیده می‌شود.\n",
    "- اگر مخرج صفر باشد (`ZeroDivisionError`)، هشدار می‌دهد که تقسیم بر صفر مجاز نیست و دوباره سوال می‌پرسد.\n",
    "- اگر هیچ خطایی نباشد، نتیجه‌ی تقسیم نمایش داده می‌شود و حلقه متوقف می‌شود.\n",
    "- در انتهای هر تکرار، چه موفق و چه با خطا، پیغام \"Thank you for using the divider.\" چاپ می‌شود.\n"
   ]
  }
 ],
 "metadata": {},
 "nbformat": 4,
 "nbformat_minor": 5
}
